{
 "cells": [
  {
   "cell_type": "code",
   "execution_count": 18,
   "outputs": [
    {
     "data": {
      "text/plain": "{'data': b'eyJidWRnZXRBbW91bnQiOiAxMDAsICJjb3N0QW1vdW50IjogNTB9'}"
     },
     "execution_count": 18,
     "metadata": {},
     "output_type": "execute_result"
    }
   ],
   "source": [
    "import base64\n",
    "import json\n",
    "\n",
    "data = {\"budgetAmount\": 100, \"costAmount\": 50}\n",
    "\n",
    "{\n",
    "    \"data\": base64.b64encode(bytes(json.dumps(data), 'utf-8'))\n",
    "}"
   ],
   "metadata": {
    "collapsed": false,
    "pycharm": {
     "name": "#%%\n"
    }
   }
  },
  {
   "cell_type": "code",
   "execution_count": 2,
   "outputs": [
    {
     "ename": "ValueError",
     "evalue": "The default Firebase app already exists. This means you called initialize_app() more than once without providing an app name as the second argument. In most cases you only need to call initialize_app() once. But if you do want to initialize multiple apps, pass a second argument to initialize_app() to give each app a unique name.",
     "output_type": "error",
     "traceback": [
      "\u001B[1;31m---------------------------------------------------------------------------\u001B[0m",
      "\u001B[1;31mValueError\u001B[0m                                Traceback (most recent call last)",
      "File \u001B[1;32mD:\\Workspace\\loterica-facil\\functions\\crawler\\main.py:77\u001B[0m, in \u001B[0;36minstantiate\u001B[1;34m()\u001B[0m\n\u001B[0;32m     76\u001B[0m cred \u001B[38;5;241m=\u001B[39m Certificate(key_path)\n\u001B[1;32m---> 77\u001B[0m app \u001B[38;5;241m=\u001B[39m \u001B[43mfirebase_admin\u001B[49m\u001B[38;5;241;43m.\u001B[39;49m\u001B[43minitialize_app\u001B[49m\u001B[43m(\u001B[49m\u001B[43mcred\u001B[49m\u001B[43m)\u001B[49m\n\u001B[0;32m     78\u001B[0m db \u001B[38;5;241m=\u001B[39m firestore\u001B[38;5;241m.\u001B[39mclient()\n",
      "File \u001B[1;32mD:\\Workspace\\loterica-facil\\env\\lib\\site-packages\\firebase_admin\\__init__.py:71\u001B[0m, in \u001B[0;36minitialize_app\u001B[1;34m(credential, options, name)\u001B[0m\n\u001B[0;32m     70\u001B[0m \u001B[38;5;28;01mif\u001B[39;00m name \u001B[38;5;241m==\u001B[39m _DEFAULT_APP_NAME:\n\u001B[1;32m---> 71\u001B[0m     \u001B[38;5;28;01mraise\u001B[39;00m \u001B[38;5;167;01mValueError\u001B[39;00m((\n\u001B[0;32m     72\u001B[0m         \u001B[38;5;124m'\u001B[39m\u001B[38;5;124mThe default Firebase app already exists. This means you called \u001B[39m\u001B[38;5;124m'\u001B[39m\n\u001B[0;32m     73\u001B[0m         \u001B[38;5;124m'\u001B[39m\u001B[38;5;124minitialize_app() more than once without providing an app name as \u001B[39m\u001B[38;5;124m'\u001B[39m\n\u001B[0;32m     74\u001B[0m         \u001B[38;5;124m'\u001B[39m\u001B[38;5;124mthe second argument. In most cases you only need to call \u001B[39m\u001B[38;5;124m'\u001B[39m\n\u001B[0;32m     75\u001B[0m         \u001B[38;5;124m'\u001B[39m\u001B[38;5;124minitialize_app() once. But if you do want to initialize multiple \u001B[39m\u001B[38;5;124m'\u001B[39m\n\u001B[0;32m     76\u001B[0m         \u001B[38;5;124m'\u001B[39m\u001B[38;5;124mapps, pass a second argument to initialize_app() to give each app \u001B[39m\u001B[38;5;124m'\u001B[39m\n\u001B[0;32m     77\u001B[0m         \u001B[38;5;124m'\u001B[39m\u001B[38;5;124ma unique name.\u001B[39m\u001B[38;5;124m'\u001B[39m))\n\u001B[0;32m     79\u001B[0m \u001B[38;5;28;01mraise\u001B[39;00m \u001B[38;5;167;01mValueError\u001B[39;00m((\n\u001B[0;32m     80\u001B[0m     \u001B[38;5;124m'\u001B[39m\u001B[38;5;124mFirebase app named \u001B[39m\u001B[38;5;124m\"\u001B[39m\u001B[38;5;132;01m{0}\u001B[39;00m\u001B[38;5;124m\"\u001B[39m\u001B[38;5;124m already exists. This means you called \u001B[39m\u001B[38;5;124m'\u001B[39m\n\u001B[0;32m     81\u001B[0m     \u001B[38;5;124m'\u001B[39m\u001B[38;5;124minitialize_app() more than once with the same app name as the \u001B[39m\u001B[38;5;124m'\u001B[39m\n\u001B[0;32m     82\u001B[0m     \u001B[38;5;124m'\u001B[39m\u001B[38;5;124msecond argument. Make sure you provide a unique name every time \u001B[39m\u001B[38;5;124m'\u001B[39m\n\u001B[0;32m     83\u001B[0m     \u001B[38;5;124m'\u001B[39m\u001B[38;5;124myou call initialize_app().\u001B[39m\u001B[38;5;124m'\u001B[39m)\u001B[38;5;241m.\u001B[39mformat(name))\n",
      "\u001B[1;31mValueError\u001B[0m: The default Firebase app already exists. This means you called initialize_app() more than once without providing an app name as the second argument. In most cases you only need to call initialize_app() once. But if you do want to initialize multiple apps, pass a second argument to initialize_app() to give each app a unique name.",
      "\nDuring handling of the above exception, another exception occurred:\n",
      "\u001B[1;31mValueError\u001B[0m                                Traceback (most recent call last)",
      "Input \u001B[1;32mIn [2]\u001B[0m, in \u001B[0;36m<cell line: 3>\u001B[1;34m()\u001B[0m\n\u001B[0;32m      1\u001B[0m \u001B[38;5;28;01mfrom\u001B[39;00m \u001B[38;5;21;01mcrawler\u001B[39;00m\u001B[38;5;21;01m.\u001B[39;00m\u001B[38;5;21;01mmain\u001B[39;00m \u001B[38;5;28;01mimport\u001B[39;00m \u001B[38;5;241m*\u001B[39m\n\u001B[1;32m----> 3\u001B[0m app, db \u001B[38;5;241m=\u001B[39m \u001B[43minstantiate\u001B[49m\u001B[43m(\u001B[49m\u001B[43m)\u001B[49m\n\u001B[0;32m      4\u001B[0m lotteries \u001B[38;5;241m=\u001B[39m fetch_lotteries(db)\n\u001B[0;32m      6\u001B[0m \u001B[38;5;28;01mfor\u001B[39;00m lottery \u001B[38;5;129;01min\u001B[39;00m lotteries:\n",
      "File \u001B[1;32mD:\\Workspace\\loterica-facil\\functions\\crawler\\main.py:80\u001B[0m, in \u001B[0;36minstantiate\u001B[1;34m()\u001B[0m\n\u001B[0;32m     78\u001B[0m     db \u001B[38;5;241m=\u001B[39m firestore\u001B[38;5;241m.\u001B[39mclient()\n\u001B[0;32m     79\u001B[0m \u001B[38;5;28;01mexcept\u001B[39;00m:\n\u001B[1;32m---> 80\u001B[0m     app \u001B[38;5;241m=\u001B[39m \u001B[43mfirebase_admin\u001B[49m\u001B[38;5;241;43m.\u001B[39;49m\u001B[43minitialize_app\u001B[49m\u001B[43m(\u001B[49m\u001B[43m)\u001B[49m\n\u001B[0;32m     81\u001B[0m     db \u001B[38;5;241m=\u001B[39m firestore\u001B[38;5;241m.\u001B[39mclient()\n\u001B[0;32m     83\u001B[0m \u001B[38;5;28;01mreturn\u001B[39;00m app, db\n",
      "File \u001B[1;32mD:\\Workspace\\loterica-facil\\env\\lib\\site-packages\\firebase_admin\\__init__.py:71\u001B[0m, in \u001B[0;36minitialize_app\u001B[1;34m(credential, options, name)\u001B[0m\n\u001B[0;32m     68\u001B[0m         \u001B[38;5;28;01mreturn\u001B[39;00m app\n\u001B[0;32m     70\u001B[0m \u001B[38;5;28;01mif\u001B[39;00m name \u001B[38;5;241m==\u001B[39m _DEFAULT_APP_NAME:\n\u001B[1;32m---> 71\u001B[0m     \u001B[38;5;28;01mraise\u001B[39;00m \u001B[38;5;167;01mValueError\u001B[39;00m((\n\u001B[0;32m     72\u001B[0m         \u001B[38;5;124m'\u001B[39m\u001B[38;5;124mThe default Firebase app already exists. This means you called \u001B[39m\u001B[38;5;124m'\u001B[39m\n\u001B[0;32m     73\u001B[0m         \u001B[38;5;124m'\u001B[39m\u001B[38;5;124minitialize_app() more than once without providing an app name as \u001B[39m\u001B[38;5;124m'\u001B[39m\n\u001B[0;32m     74\u001B[0m         \u001B[38;5;124m'\u001B[39m\u001B[38;5;124mthe second argument. In most cases you only need to call \u001B[39m\u001B[38;5;124m'\u001B[39m\n\u001B[0;32m     75\u001B[0m         \u001B[38;5;124m'\u001B[39m\u001B[38;5;124minitialize_app() once. But if you do want to initialize multiple \u001B[39m\u001B[38;5;124m'\u001B[39m\n\u001B[0;32m     76\u001B[0m         \u001B[38;5;124m'\u001B[39m\u001B[38;5;124mapps, pass a second argument to initialize_app() to give each app \u001B[39m\u001B[38;5;124m'\u001B[39m\n\u001B[0;32m     77\u001B[0m         \u001B[38;5;124m'\u001B[39m\u001B[38;5;124ma unique name.\u001B[39m\u001B[38;5;124m'\u001B[39m))\n\u001B[0;32m     79\u001B[0m \u001B[38;5;28;01mraise\u001B[39;00m \u001B[38;5;167;01mValueError\u001B[39;00m((\n\u001B[0;32m     80\u001B[0m     \u001B[38;5;124m'\u001B[39m\u001B[38;5;124mFirebase app named \u001B[39m\u001B[38;5;124m\"\u001B[39m\u001B[38;5;132;01m{0}\u001B[39;00m\u001B[38;5;124m\"\u001B[39m\u001B[38;5;124m already exists. This means you called \u001B[39m\u001B[38;5;124m'\u001B[39m\n\u001B[0;32m     81\u001B[0m     \u001B[38;5;124m'\u001B[39m\u001B[38;5;124minitialize_app() more than once with the same app name as the \u001B[39m\u001B[38;5;124m'\u001B[39m\n\u001B[0;32m     82\u001B[0m     \u001B[38;5;124m'\u001B[39m\u001B[38;5;124msecond argument. Make sure you provide a unique name every time \u001B[39m\u001B[38;5;124m'\u001B[39m\n\u001B[0;32m     83\u001B[0m     \u001B[38;5;124m'\u001B[39m\u001B[38;5;124myou call initialize_app().\u001B[39m\u001B[38;5;124m'\u001B[39m)\u001B[38;5;241m.\u001B[39mformat(name))\n",
      "\u001B[1;31mValueError\u001B[0m: The default Firebase app already exists. This means you called initialize_app() more than once without providing an app name as the second argument. In most cases you only need to call initialize_app() once. But if you do want to initialize multiple apps, pass a second argument to initialize_app() to give each app a unique name."
     ]
    }
   ],
   "source": [
    "from crawler.main import *\n",
    "\n",
    "app, db = instantiate()\n",
    "lotteries = fetch_lotteries(db)\n",
    "\n",
    "for lottery in lotteries:\n",
    "    last_result = get_contest_result_by_url(lottery['api'])\n",
    "\n",
    "    save(\n",
    "        db=db,\n",
    "        collection=lottery[\"collection\"],\n",
    "        uuid=str(last_result.id),\n",
    "        document=last_result.__dict__,\n",
    "        transaction=None\n",
    "    )\n"
   ],
   "metadata": {
    "collapsed": false,
    "pycharm": {
     "name": "#%%\n"
    }
   }
  }
 ],
 "metadata": {
  "kernelspec": {
   "display_name": "Python 3",
   "language": "python",
   "name": "python3"
  },
  "language_info": {
   "codemirror_mode": {
    "name": "ipython",
    "version": 2
   },
   "file_extension": ".py",
   "mimetype": "text/x-python",
   "name": "python",
   "nbconvert_exporter": "python",
   "pygments_lexer": "ipython2",
   "version": "2.7.6"
  }
 },
 "nbformat": 4,
 "nbformat_minor": 0
}